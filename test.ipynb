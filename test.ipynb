{
 "cells": [
  {
   "cell_type": "code",
   "execution_count": 25,
   "metadata": {},
   "outputs": [],
   "source": [
    "import pandas as pd\n",
    "import numpy as np\n",
    "import matplotlib.pyplot as plt\n",
    "import seaborn as sns\n",
    "from IPython.display import display, HTML"
   ]
  },
  {
   "cell_type": "markdown",
   "metadata": {},
   "source": [
    "# Code\n",
    " data sent via emailing from **Mind Monitor**\n",
    "\n",
    "### TODOS\n",
    "1. organize streaming data by taking this as reference"
   ]
  },
  {
   "cell_type": "code",
   "execution_count": 26,
   "metadata": {},
   "outputs": [],
   "source": [
    "df = pd.read_csv(\"./data/waves_muse.csv\")"
   ]
  },
  {
   "cell_type": "code",
   "execution_count": 27,
   "metadata": {},
   "outputs": [
    {
     "name": "stdout",
     "output_type": "stream",
     "text": [
      "Column: TimeStamp, Type: object\n",
      "Column: Delta_TP9, Type: float64\n",
      "Column: Delta_AF7, Type: float64\n",
      "Column: Delta_AF8, Type: float64\n",
      "Column: Delta_TP10, Type: float64\n",
      "Column: Theta_TP9, Type: float64\n",
      "Column: Theta_AF7, Type: float64\n",
      "Column: Theta_AF8, Type: float64\n",
      "Column: Theta_TP10, Type: float64\n",
      "Column: Alpha_TP9, Type: float64\n",
      "Column: Alpha_AF7, Type: float64\n",
      "Column: Alpha_AF8, Type: float64\n",
      "Column: Alpha_TP10, Type: float64\n",
      "Column: Beta_TP9, Type: float64\n",
      "Column: Beta_AF7, Type: float64\n",
      "Column: Beta_AF8, Type: float64\n",
      "Column: Beta_TP10, Type: float64\n",
      "Column: Gamma_TP9, Type: float64\n",
      "Column: Gamma_AF7, Type: float64\n",
      "Column: Gamma_AF8, Type: float64\n",
      "Column: Gamma_TP10, Type: float64\n",
      "Column: RAW_TP9, Type: float64\n",
      "Column: RAW_AF7, Type: float64\n",
      "Column: RAW_AF8, Type: float64\n",
      "Column: RAW_TP10, Type: float64\n",
      "Column: AUX_RIGHT, Type: float64\n",
      "Column: AUX_LEFT, Type: float64\n",
      "Column: Accelerometer_X, Type: float64\n",
      "Column: Accelerometer_Y, Type: float64\n",
      "Column: Accelerometer_Z, Type: float64\n",
      "Column: Gyro_X, Type: float64\n",
      "Column: Gyro_Y, Type: float64\n",
      "Column: Gyro_Z, Type: float64\n",
      "Column: HeadBandOn, Type: float64\n",
      "Column: HSI_TP9, Type: float64\n",
      "Column: HSI_AF7, Type: float64\n",
      "Column: HSI_AF8, Type: float64\n",
      "Column: HSI_TP10, Type: float64\n",
      "Column: Battery, Type: float64\n",
      "Column: Elements, Type: object\n"
     ]
    }
   ],
   "source": [
    "for column in df.columns:\n",
    "    print(f\"Column: {column}, Type: {df[column].dtype}\")"
   ]
  },
  {
   "cell_type": "code",
   "execution_count": null,
   "metadata": {},
   "outputs": [],
   "source": []
  }
 ],
 "metadata": {
  "kernelspec": {
   "display_name": "brain",
   "language": "python",
   "name": "python3"
  },
  "language_info": {
   "codemirror_mode": {
    "name": "ipython",
    "version": 3
   },
   "file_extension": ".py",
   "mimetype": "text/x-python",
   "name": "python",
   "nbconvert_exporter": "python",
   "pygments_lexer": "ipython3",
   "version": "3.8.18"
  }
 },
 "nbformat": 4,
 "nbformat_minor": 2
}
